{
 "cells": [
  {
   "cell_type": "markdown",
   "id": "d0eb4f16-5a99-460d-a5ba-706b7ef0bbe7",
   "metadata": {
    "id": "bA5ajAmk7XH6"
   },
   "source": [
    "When factoring heat generation required for the manufacturing and transportation of products, _Greenhouse gas emissions attributable to products, from food to sneakers to appliances, make up more than 75% of global emissions._ [The Carbon Catalogue](https://www.nature.com/articles/s41597-022-01178-9)\n",
    "\n",
    "Our data, which is publicly available on [nature.com](https://www.nature.com/articles/s41597-022-01178-9), contains product carbon footprints (PCFs) for various companies. PCFs are the greenhouse gas emissions attributable to a given product, measured in CO<sub>2</sub> (carbon dioxide equivalent).\n",
    "\n",
    "This data is stored in a PostgreSQL database containing one table, `product_emissions`, which looks at PCFs by product as well as the stage of production that these emissions occurred. Here's a snapshot of what `product_emissions` contains in each column:\n",
    "\n",
    "### `product_emissions`\n",
    "\n",
    "| field                              | data type |\n",
    "|------------------------------------|-----------|\n",
    "| `id`                                 | `VARCHAR`   |\n",
    "| `year`                               | `INT`       |\n",
    "| `product_name`                       | `VARCHAR`   |\n",
    "| `company`                            | `VARCHAR`   |\n",
    "| `country`                            | `VARCHAR`   |\n",
    "| `industry_group`                     | `VARCHAR`   |\n",
    "| `weight_kg`                          | `NUMERIC`   |\n",
    "| `carbon_footprint_pcf`               | `NUMERIC`   |\n",
    "| `upstream_percent_total_pcf`         | `VARCHAR`   |\n",
    "| `operations_percent_total_pcf`       | `VARCHAR`   |\n",
    "| `downstream_percent_total_pcf`       | `VARCHAR`   |\n",
    "\n",
    "You'll use this data to examine the carbon footprint of each industry in the dataset! "
   ]
  },
  {
   "cell_type": "markdown",
   "id": "892b41f1",
   "metadata": {},
   "source": [
    "### Calculate Total Industry Carbon Footprint for 2017"
   ]
  },
  {
   "cell_type": "code",
   "execution_count": 4,
   "id": "f76f5039-ed23-424e-84e7-143d44331a05",
   "metadata": {
    "customType": "sql",
    "dataFrameVariableName": "carbon_emissions_by_industry",
    "executionCancelledAt": null,
    "executionTime": 842,
    "lastExecutedAt": 1718379180882,
    "lastExecutedByKernel": "7d2b5460-fe87-4bef-951f-f36d0851eb39",
    "lastScheduledRunId": null,
    "lastSuccessfullyExecutedCode": "-- Update your query here\nSELECT industry_group, COUNT(DISTINCT company) AS num_companies, ROUND(SUM(carbon_footprint_pcf), 1) AS total_industry_footprint\nFROM product_emissions\nWHERE year = '2017'\nGROUP BY industry_group\nORDER BY total_industry_footprint DESC;",
    "outputsMetadata": {
     "0": {
      "height": 221,
      "type": "dataFrame"
     }
    },
    "sqlCellMode": "dataFrame",
    "sqlSource": {
     "integrationId": "89e17161-a224-4a8a-846b-0adc0fe7a4b1",
     "type": "integration"
    }
   },
   "outputs": [
    {
     "ename": "SyntaxError",
     "evalue": "invalid syntax. Perhaps you forgot a comma? (3053089763.py, line 1)",
     "output_type": "error",
     "traceback": [
      "\u001b[1;36m  Cell \u001b[1;32mIn[4], line 1\u001b[1;36m\u001b[0m\n\u001b[1;33m    SELECT industry_group, COUNT(DISTINCT company) AS num_companies, ROUND(SUM(carbon_footprint_pcf), 1) AS total_industry_footprint\u001b[0m\n\u001b[1;37m                                 ^\u001b[0m\n\u001b[1;31mSyntaxError\u001b[0m\u001b[1;31m:\u001b[0m invalid syntax. Perhaps you forgot a comma?\n"
     ]
    }
   ],
   "source": [
    "SELECT industry_group, COUNT(DISTINCT company) AS num_companies, ROUND(SUM(carbon_footprint_pcf), 1) AS total_industry_footprint\n",
    "FROM product_emissions\n",
    "WHERE year = '2017'\n",
    "GROUP BY industry_group\n",
    "ORDER BY total_industry_footprint DESC;"
   ]
  },
  {
   "cell_type": "markdown",
   "id": "a63abd5e",
   "metadata": {},
   "source": [
    "### Examine Carbon Footprints Across Industries"
   ]
  },
  {
   "cell_type": "code",
   "execution_count": 5,
   "id": "03b4b915",
   "metadata": {},
   "outputs": [
    {
     "ename": "IndentationError",
     "evalue": "unexpected indent (1505064499.py, line 2)",
     "output_type": "error",
     "traceback": [
      "\u001b[1;36m  Cell \u001b[1;32mIn[5], line 2\u001b[1;36m\u001b[0m\n\u001b[1;33m    industry_group,\u001b[0m\n\u001b[1;37m    ^\u001b[0m\n\u001b[1;31mIndentationError\u001b[0m\u001b[1;31m:\u001b[0m unexpected indent\n"
     ]
    }
   ],
   "source": [
    "SELECT\n",
    "    industry_group,\n",
    "    AVG(carbon_footprint_pcf) AS avg_carbon_footprint\n",
    "FROM\n",
    "    product_emissions\n",
    "GROUP BY\n",
    "    industry_group\n",
    "ORDER BY\n",
    "    avg_carbon_footprint DESC;"
   ]
  },
  {
   "cell_type": "markdown",
   "id": "08581ccf",
   "metadata": {},
   "source": [
    "### Identify Key Contributors"
   ]
  },
  {
   "cell_type": "code",
   "execution_count": null,
   "id": "9148019a",
   "metadata": {},
   "outputs": [],
   "source": [
    "SELECT\n",
    "    company,\n",
    "    industry_group,\n",
    "    SUM(carbon_footprint_pcf) AS total_carbon_footprint\n",
    "FROM\n",
    "    product_emissions\n",
    "GROUP BY\n",
    "    company, industry_group\n",
    "ORDER BY\n",
    "    total_carbon_footprint DESC\n",
    "LIMIT 10;"
   ]
  },
  {
   "cell_type": "markdown",
   "id": "96e65570",
   "metadata": {},
   "source": [
    "### Analyze Emissions by Production Stage"
   ]
  },
  {
   "cell_type": "code",
   "execution_count": null,
   "id": "ca836ae9",
   "metadata": {},
   "outputs": [],
   "source": [
    "SELECT\n",
    "    industry_group,\n",
    "    AVG(CAST(upstream_percent_total_pcf AS NUMERIC)) AS avg_upstream_percent,\n",
    "    AVG(CAST(operations_percent_total_pcf AS NUMERIC)) AS avg_operations_percent,\n",
    "    AVG(CAST(downstream_percent_total_pcf AS NUMERIC)) AS avg_downstream_percent\n",
    "FROM\n",
    "    product_emissions\n",
    "GROUP BY\n",
    "    industry_group;"
   ]
  }
 ],
 "metadata": {
  "colab": {
   "name": "Welcome to DataCamp Workspaces.ipynb",
   "provenance": []
  },
  "kernelspec": {
   "display_name": "Python 3 (ipykernel)",
   "language": "python",
   "name": "python3"
  },
  "language_info": {
   "codemirror_mode": {
    "name": "ipython",
    "version": 3
   },
   "file_extension": ".py",
   "mimetype": "text/x-python",
   "name": "python",
   "nbconvert_exporter": "python",
   "pygments_lexer": "ipython3",
   "version": "3.8.10"
  }
 },
 "nbformat": 4,
 "nbformat_minor": 5
}
